{
  "nbformat": 4,
  "nbformat_minor": 0,
  "metadata": {
    "colab": {
      "provenance": [],
      "gpuType": "T4",
      "authorship_tag": "ABX9TyPLpn01HhUVP9FXztckG5L5",
      "include_colab_link": true
    },
    "kernelspec": {
      "name": "python3",
      "display_name": "Python 3"
    },
    "language_info": {
      "name": "python"
    },
    "accelerator": "GPU"
  },
  "cells": [
    {
      "cell_type": "markdown",
      "metadata": {
        "id": "view-in-github",
        "colab_type": "text"
      },
      "source": [
        "<a href=\"https://colab.research.google.com/github/Codewithkaint/LearnGit/blob/main/PreTrainedModels.ipynb\" target=\"_parent\"><img src=\"https://colab.research.google.com/assets/colab-badge.svg\" alt=\"Open In Colab\"/></a>"
      ]
    },
    {
      "cell_type": "code",
      "execution_count": 1,
      "metadata": {
        "id": "-oC24uWZt8wO"
      },
      "outputs": [],
      "source": [
        "from tensorflow.keras.applications.resnet50 import ResNet50\n",
        "from tensorflow.keras.preprocessing import image\n",
        "from tensorflow.keras.applications.resnet50 import preprocess_input,decode_predictions\n",
        "import numpy as np"
      ]
    },
    {
      "cell_type": "code",
      "source": [
        "model=ResNet50(weights='imagenet')"
      ],
      "metadata": {
        "colab": {
          "base_uri": "https://localhost:8080/"
        },
        "id": "8BYEgcP5uf7B",
        "outputId": "a0672674-146f-4433-853d-bea22edbe183"
      },
      "execution_count": 2,
      "outputs": [
        {
          "output_type": "stream",
          "name": "stdout",
          "text": [
            "Downloading data from https://storage.googleapis.com/tensorflow/keras-applications/resnet/resnet50_weights_tf_dim_ordering_tf_kernels.h5\n",
            "102967424/102967424 [==============================] - 1s 0us/step\n"
          ]
        }
      ]
    },
    {
      "cell_type": "code",
      "source": [
        "imgPath=\"/content/dog.10028.jpg\"\n",
        "img=image.load_img(imgPath,target_size=(224,224))\n",
        "x=image.img_to_array(img)\n",
        "x=np.expand_dims(x,axis=0)\n",
        "print(x)\n",
        "print(\"***\")\n",
        "x=preprocess_input(x)\n",
        "print(x)"
      ],
      "metadata": {
        "colab": {
          "base_uri": "https://localhost:8080/"
        },
        "id": "Dj3lC5HBuu1V",
        "outputId": "54ac7ef5-e27f-45a8-a0f1-2859baa03193"
      },
      "execution_count": 3,
      "outputs": [
        {
          "output_type": "stream",
          "name": "stdout",
          "text": [
            "[[[[102. 123.  92.]\n",
            "   [ 97. 118.  87.]\n",
            "   [113. 134. 103.]\n",
            "   ...\n",
            "   [ 63. 102.  55.]\n",
            "   [ 15.  52.   9.]\n",
            "   [ 44.  81.  38.]]\n",
            "\n",
            "  [[ 55.  79.  47.]\n",
            "   [ 78. 103.  71.]\n",
            "   [ 79. 104.  72.]\n",
            "   ...\n",
            "   [ 47.  86.  39.]\n",
            "   [ 38.  77.  33.]\n",
            "   [ 45.  84.  40.]]\n",
            "\n",
            "  [[ 63.  90.  57.]\n",
            "   [ 69.  99.  65.]\n",
            "   [ 64.  94.  60.]\n",
            "   ...\n",
            "   [ 34.  73.  26.]\n",
            "   [ 30.  71.  27.]\n",
            "   [ 22.  63.  19.]]\n",
            "\n",
            "  ...\n",
            "\n",
            "  [[ 50.  69.  49.]\n",
            "   [ 33.  57.  35.]\n",
            "   [ 46.  74.  51.]\n",
            "   ...\n",
            "   [ 63.  87.  65.]\n",
            "   [ 44.  64.  37.]\n",
            "   [ 40.  59.  31.]]\n",
            "\n",
            "  [[ 37.  56.  36.]\n",
            "   [ 27.  51.  29.]\n",
            "   [ 18.  46.  23.]\n",
            "   ...\n",
            "   [  1.  25.   3.]\n",
            "   [ 25.  45.  20.]\n",
            "   [ 27.  45.  19.]]\n",
            "\n",
            "  [[ 66.  85.  65.]\n",
            "   [ 55.  79.  57.]\n",
            "   [ 11.  39.  16.]\n",
            "   ...\n",
            "   [ 11.  35.  13.]\n",
            "   [ 12.  32.   7.]\n",
            "   [ 12.  30.   4.]]]]\n",
            "***\n",
            "[[[[ -11.939003     6.2210007  -21.68     ]\n",
            "   [ -16.939003     1.2210007  -26.68     ]\n",
            "   [  -0.939003    17.221      -10.68     ]\n",
            "   ...\n",
            "   [ -48.939003   -14.778999   -60.68     ]\n",
            "   [ -94.939      -64.779     -108.68     ]\n",
            "   [ -65.939      -35.779      -79.68     ]]\n",
            "\n",
            "  [[ -56.939003   -37.779      -68.68     ]\n",
            "   [ -32.939003   -13.778999   -45.68     ]\n",
            "   [ -31.939003   -12.778999   -44.68     ]\n",
            "   ...\n",
            "   [ -64.939      -30.779      -76.68     ]\n",
            "   [ -70.939      -39.779      -85.68     ]\n",
            "   [ -63.939003   -32.779      -78.68     ]]\n",
            "\n",
            "  [[ -46.939003   -26.779      -60.68     ]\n",
            "   [ -38.939003   -17.779      -54.68     ]\n",
            "   [ -43.939003   -22.779      -59.68     ]\n",
            "   ...\n",
            "   [ -77.939      -43.779      -89.68     ]\n",
            "   [ -76.939      -45.779      -93.68     ]\n",
            "   [ -84.939      -53.779     -101.68     ]]\n",
            "\n",
            "  ...\n",
            "\n",
            "  [[ -54.939003   -47.779      -73.68     ]\n",
            "   [ -68.939      -59.779      -90.68     ]\n",
            "   [ -52.939003   -42.779      -77.68     ]\n",
            "   ...\n",
            "   [ -38.939003   -29.779      -60.68     ]\n",
            "   [ -66.939      -52.779      -79.68     ]\n",
            "   [ -72.939      -57.779      -83.68     ]]\n",
            "\n",
            "  [[ -67.939      -60.779      -86.68     ]\n",
            "   [ -74.939      -65.779      -96.68     ]\n",
            "   [ -80.939      -70.779     -105.68     ]\n",
            "   ...\n",
            "   [-100.939      -91.779     -122.68     ]\n",
            "   [ -83.939      -71.779      -98.68     ]\n",
            "   [ -84.939      -71.779      -96.68     ]]\n",
            "\n",
            "  [[ -38.939003   -31.779      -57.68     ]\n",
            "   [ -46.939003   -37.779      -68.68     ]\n",
            "   [ -87.939      -77.779     -112.68     ]\n",
            "   ...\n",
            "   [ -90.939      -81.779     -112.68     ]\n",
            "   [ -96.939      -84.779     -111.68     ]\n",
            "   [ -99.939      -86.779     -111.68     ]]]]\n"
          ]
        }
      ]
    },
    {
      "cell_type": "code",
      "source": [
        "pred=model.predict(x)\n",
        "print(\"Predicted = \",decode_predictions(pred,top=3)[0])"
      ],
      "metadata": {
        "colab": {
          "base_uri": "https://localhost:8080/"
        },
        "id": "3IfpRQnGvQXA",
        "outputId": "b9ef23a6-bd8b-4736-9891-b281a4b70458"
      },
      "execution_count": 5,
      "outputs": [
        {
          "output_type": "stream",
          "name": "stdout",
          "text": [
            "1/1 [==============================] - 0s 24ms/step\n",
            "Downloading data from https://storage.googleapis.com/download.tensorflow.org/data/imagenet_class_index.json\n",
            "35363/35363 [==============================] - 0s 0us/step\n",
            "Predicted =  [('n02109047', 'Great_Dane', 0.5685877), ('n02108089', 'boxer', 0.38449976), ('n04409515', 'tennis_ball', 0.010777834)]\n"
          ]
        }
      ]
    },
    {
      "cell_type": "code",
      "source": [],
      "metadata": {
        "id": "rvj66u8dv0Gx"
      },
      "execution_count": null,
      "outputs": []
    }
  ]
}